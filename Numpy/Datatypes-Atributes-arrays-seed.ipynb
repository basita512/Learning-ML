{
 "cells": [
  {
   "cell_type": "markdown",
   "id": "faa7daee-0b15-4e82-b555-8dab780a4d17",
   "metadata": {},
   "source": [
    "## Numpy\n",
    "\n",
    "We dont use python functions slow, thats why numpy comes to picture where all the numpy functions are written in C language, hence the functions execute fast\n",
    "\n",
    "Numpy will convert our DataFrames into numbers to find patterns inside it"
   ]
  },
  {
   "cell_type": "markdown",
   "id": "c66ba8d7-e418-4fb6-9907-ab5fcaf5f837",
   "metadata": {},
   "source": [
    "Features\n",
    "\n",
    "1. It is fast\n",
    "2. Behind the scenes optimizations written in C\n",
    "3. Vectorization via broadcasting (avoiding loops)"
   ]
  },
  {
   "cell_type": "code",
   "execution_count": 1,
   "id": "a31ea8a2-e597-43bd-83f5-2a4cce1e5ce8",
   "metadata": {},
   "outputs": [],
   "source": [
    "import numpy as np"
   ]
  },
  {
   "cell_type": "markdown",
   "id": "e53cc253-a877-425b-8757-b539dd1fdf0d",
   "metadata": {},
   "source": [
    "## DataTypes and Attributes\n",
    "\n",
    "Numpy's main datatype is is ndrray (nd-array -> N dimensional Array)"
   ]
  },
  {
   "cell_type": "code",
   "execution_count": 9,
   "id": "3a66bc93-60b7-42be-9d32-79bda1643c45",
   "metadata": {},
   "outputs": [
    {
     "data": {
      "text/plain": [
       "array([1, 2, 3])"
      ]
     },
     "execution_count": 9,
     "metadata": {},
     "output_type": "execute_result"
    }
   ],
   "source": [
    "# 1D array (1, 3) \n",
    "# 1 row, 3 column\n",
    "a1 = np.array([1, 2, 3])\n",
    "a1"
   ]
  },
  {
   "cell_type": "code",
   "execution_count": 4,
   "id": "4ade5a3f-efd2-417f-a429-3c8bc621291a",
   "metadata": {},
   "outputs": [
    {
     "data": {
      "text/plain": [
       "numpy.ndarray"
      ]
     },
     "execution_count": 4,
     "metadata": {},
     "output_type": "execute_result"
    }
   ],
   "source": [
    "type(a1)"
   ]
  },
  {
   "cell_type": "code",
   "execution_count": 10,
   "id": "fbd39fcd-6d68-4260-8770-ee2fd6907245",
   "metadata": {},
   "outputs": [
    {
     "data": {
      "text/plain": [
       "array([[1. , 2. , 3.6],\n",
       "       [4. , 5. , 6.2]])"
      ]
     },
     "execution_count": 10,
     "metadata": {},
     "output_type": "execute_result"
    }
   ],
   "source": [
    "# 2D array (2, 3)\n",
    "# 2 row 3 column\n",
    "a2 = np.array([[1, 2, 3.6],\n",
    "             [4, 5, 6.2]])\n",
    "a2"
   ]
  },
  {
   "cell_type": "code",
   "execution_count": 11,
   "id": "56056cf5-f0ee-444f-b336-8bbc88ffb7cb",
   "metadata": {},
   "outputs": [
    {
     "data": {
      "text/plain": [
       "array([[[ 1,  2,  3],\n",
       "        [ 4,  5,  6],\n",
       "        [ 7,  8,  9]],\n",
       "\n",
       "       [[10, 11, 12],\n",
       "        [13, 14, 15],\n",
       "        [16, 17, 18]]])"
      ]
     },
     "execution_count": 11,
     "metadata": {},
     "output_type": "execute_result"
    }
   ],
   "source": [
    "# 3D array (2, 3, 3)\n",
    "# 2 tables 3 rows 3 columns\n",
    "a3 = np.array([[[1, 2, 3],\n",
    "               [4, 5, 6],\n",
    "               [7, 8, 9]],\n",
    "              \n",
    "              [[10, 11, 12],\n",
    "              [13, 14, 15],\n",
    "              [16, 17, 18]]])\n",
    "a3"
   ]
  },
  {
   "cell_type": "code",
   "execution_count": 12,
   "id": "ab34f412-d3c2-40eb-b71d-7b9153cd79f3",
   "metadata": {},
   "outputs": [
    {
     "data": {
      "text/plain": [
       "(3,)"
      ]
     },
     "execution_count": 12,
     "metadata": {},
     "output_type": "execute_result"
    }
   ],
   "source": [
    "a1.shape"
   ]
  },
  {
   "cell_type": "code",
   "execution_count": 13,
   "id": "57899c39-636b-4cf5-88cf-4c611141bb13",
   "metadata": {},
   "outputs": [
    {
     "data": {
      "text/plain": [
       "(2, 3)"
      ]
     },
     "execution_count": 13,
     "metadata": {},
     "output_type": "execute_result"
    }
   ],
   "source": [
    "a2.shape"
   ]
  },
  {
   "cell_type": "code",
   "execution_count": 14,
   "id": "170985a3-d985-475d-ac65-e408053aad14",
   "metadata": {},
   "outputs": [
    {
     "data": {
      "text/plain": [
       "(2, 3, 3)"
      ]
     },
     "execution_count": 14,
     "metadata": {},
     "output_type": "execute_result"
    }
   ],
   "source": [
    "a3.shape"
   ]
  },
  {
   "cell_type": "code",
   "execution_count": 15,
   "id": "5aba6d02-5cd8-4259-9305-524ceec0e122",
   "metadata": {},
   "outputs": [
    {
     "data": {
      "text/plain": [
       "(1, 2, 3)"
      ]
     },
     "execution_count": 15,
     "metadata": {},
     "output_type": "execute_result"
    }
   ],
   "source": [
    "# No of Dimensions\n",
    "(a1.ndim, a2.ndim, a3.ndim)"
   ]
  },
  {
   "cell_type": "code",
   "execution_count": 16,
   "id": "0c5d17b2-afbe-4357-a12c-94dd541436c0",
   "metadata": {},
   "outputs": [
    {
     "data": {
      "text/plain": [
       "(dtype('int64'), dtype('float64'), dtype('int64'))"
      ]
     },
     "execution_count": 16,
     "metadata": {},
     "output_type": "execute_result"
    }
   ],
   "source": [
    "# Datatype\n",
    "(a1.dtype, a2.dtype, a3.dtype)"
   ]
  },
  {
   "cell_type": "code",
   "execution_count": 17,
   "id": "7dcaf451-f1f8-4162-9b61-c650274e103f",
   "metadata": {},
   "outputs": [
    {
     "data": {
      "text/plain": [
       "(3, 6, 18)"
      ]
     },
     "execution_count": 17,
     "metadata": {},
     "output_type": "execute_result"
    }
   ],
   "source": [
    "# size -> gives the numbe rof elements present in the array\n",
    "(a1.size, a2.size, a3.size)"
   ]
  },
  {
   "cell_type": "code",
   "execution_count": 18,
   "id": "105af4d5-b226-4614-8733-0d3c0f114f2f",
   "metadata": {},
   "outputs": [
    {
     "data": {
      "text/plain": [
       "(numpy.ndarray, numpy.ndarray, numpy.ndarray)"
      ]
     },
     "execution_count": 18,
     "metadata": {},
     "output_type": "execute_result"
    }
   ],
   "source": [
    "type(a1), type(a2), type(a3)"
   ]
  },
  {
   "cell_type": "code",
   "execution_count": 23,
   "id": "6ed7ad11-e631-4b9b-84ca-8fabaab20787",
   "metadata": {},
   "outputs": [
    {
     "data": {
      "text/html": [
       "<div>\n",
       "<style scoped>\n",
       "    .dataframe tbody tr th:only-of-type {\n",
       "        vertical-align: middle;\n",
       "    }\n",
       "\n",
       "    .dataframe tbody tr th {\n",
       "        vertical-align: top;\n",
       "    }\n",
       "\n",
       "    .dataframe thead th {\n",
       "        text-align: right;\n",
       "    }\n",
       "</style>\n",
       "<table border=\"1\" class=\"dataframe\">\n",
       "  <thead>\n",
       "    <tr style=\"text-align: right;\">\n",
       "      <th></th>\n",
       "      <th>0</th>\n",
       "      <th>1</th>\n",
       "      <th>2</th>\n",
       "    </tr>\n",
       "  </thead>\n",
       "  <tbody>\n",
       "    <tr>\n",
       "      <th>0</th>\n",
       "      <td>1.0</td>\n",
       "      <td>2.0</td>\n",
       "      <td>3.6</td>\n",
       "    </tr>\n",
       "    <tr>\n",
       "      <th>1</th>\n",
       "      <td>4.0</td>\n",
       "      <td>5.0</td>\n",
       "      <td>6.2</td>\n",
       "    </tr>\n",
       "  </tbody>\n",
       "</table>\n",
       "</div>"
      ],
      "text/plain": [
       "     0    1    2\n",
       "0  1.0  2.0  3.6\n",
       "1  4.0  5.0  6.2"
      ]
     },
     "execution_count": 23,
     "metadata": {},
     "output_type": "execute_result"
    }
   ],
   "source": [
    "# Pandas is built on top of numpy\n",
    "import pandas as pd\n",
    "\n",
    "df = pd.DataFrame(a2)\n",
    "df"
   ]
  },
  {
   "cell_type": "markdown",
   "id": "b2b0f8e3-bb91-4a2c-bfad-a03832e09f38",
   "metadata": {},
   "source": [
    "\n",
    "## Creating Arrays"
   ]
  },
  {
   "cell_type": "code",
   "execution_count": 28,
   "id": "34b565bd-d8fb-4c5f-975c-7ac54529a3b9",
   "metadata": {},
   "outputs": [
    {
     "data": {
      "text/plain": [
       "array([[1., 1., 1., 1.],\n",
       "       [1., 1., 1., 1.]])"
      ]
     },
     "execution_count": 28,
     "metadata": {},
     "output_type": "execute_result"
    }
   ],
   "source": [
    "## array of 1's, specify the size of array\n",
    "ones = np.ones((2,4))\n",
    "ones"
   ]
  },
  {
   "cell_type": "code",
   "execution_count": 29,
   "id": "f59f26a6-526e-4e5c-b33f-7bd0df426535",
   "metadata": {},
   "outputs": [
    {
     "data": {
      "text/plain": [
       "array([[0., 0., 0.],\n",
       "       [0., 0., 0.],\n",
       "       [0., 0., 0.],\n",
       "       [0., 0., 0.]])"
      ]
     },
     "execution_count": 29,
     "metadata": {},
     "output_type": "execute_result"
    }
   ],
   "source": [
    "# array of 0's \n",
    "zero_array = np.zeros((4,3))\n",
    "zero_array"
   ]
  },
  {
   "cell_type": "code",
   "execution_count": 27,
   "id": "d664c3bc-2d0a-40e1-9d0b-f676b136e584",
   "metadata": {},
   "outputs": [
    {
     "data": {
      "text/plain": [
       "array([ 3,  5,  7,  9, 11, 13, 15, 17, 19, 21, 23, 25, 27, 29, 31, 33, 35])"
      ]
     },
     "execution_count": 27,
     "metadata": {},
     "output_type": "execute_result"
    }
   ],
   "source": [
    "## Genrating array of numbers with steps(jumps)\n",
    "number_array = np.arange(3, 36, 2)\n",
    "number_array"
   ]
  },
  {
   "cell_type": "code",
   "execution_count": 31,
   "id": "76432451-bdf0-4e59-ba7e-ef76be6a514b",
   "metadata": {},
   "outputs": [
    {
     "data": {
      "text/plain": [
       "array([[8, 9, 9, 2, 3],\n",
       "       [6, 1, 2, 7, 3],\n",
       "       [2, 2, 7, 8, 7]], dtype=int32)"
      ]
     },
     "execution_count": 31,
     "metadata": {},
     "output_type": "execute_result"
    }
   ],
   "source": [
    "# Creating a random array\n",
    "# np.random.randint(stating-no, ending-no, size-of-array)\n",
    "random_array = np.random.randint(0, 10, size=(3,5))\n",
    "random_array"
   ]
  },
  {
   "cell_type": "code",
   "execution_count": 35,
   "id": "ae7b3c43-4501-42ea-8995-8e6c6b9644be",
   "metadata": {},
   "outputs": [
    {
     "data": {
      "text/plain": [
       "((3, 5), 15)"
      ]
     },
     "execution_count": 35,
     "metadata": {},
     "output_type": "execute_result"
    }
   ],
   "source": [
    "(random_array.shape, random_array.size)"
   ]
  },
  {
   "cell_type": "code",
   "execution_count": 34,
   "id": "5ff07145-6f27-49cd-9f8d-c2c8d66a8929",
   "metadata": {},
   "outputs": [
    {
     "data": {
      "text/plain": [
       "array([[0.40562157, 0.45789986, 0.61559761],\n",
       "       [0.40516238, 0.25001987, 0.16792165],\n",
       "       [0.17378379, 0.74475024, 0.34195694],\n",
       "       [0.89219458, 0.90966577, 0.75820591],\n",
       "       [0.72805018, 0.64167968, 0.01031118]])"
      ]
     },
     "execution_count": 34,
     "metadata": {},
     "output_type": "execute_result"
    }
   ],
   "source": [
    "# Another way of creating random array in range of values 0 to 1\n",
    "np.random.random((5,3))"
   ]
  },
  {
   "cell_type": "code",
   "execution_count": 36,
   "id": "4c5478ee-122a-4095-b4c5-f585384a4699",
   "metadata": {},
   "outputs": [
    {
     "data": {
      "text/plain": [
       "array([[0.57391354, 0.2030191 , 0.88955593, 0.73419242, 0.76219165],\n",
       "       [0.28854795, 0.13091288, 0.9521224 , 0.34266123, 0.23282724],\n",
       "       [0.56867874, 0.99049241, 0.10966974, 0.90250196, 0.92840231],\n",
       "       [0.89924716, 0.27825358, 0.16609338, 0.26840154, 0.42701623]])"
      ]
     },
     "execution_count": 36,
     "metadata": {},
     "output_type": "execute_result"
    }
   ],
   "source": [
    "np.random.rand(4,5)"
   ]
  },
  {
   "cell_type": "markdown",
   "id": "38f59900-4b11-4e30-a71c-2038e6f2946b",
   "metadata": {},
   "source": [
    "\n",
    "This random numbers aren't random, they are generated through seed also called as Psuedo seed"
   ]
  },
  {
   "cell_type": "code",
   "execution_count": 40,
   "id": "708808b2-b4cc-437b-be3d-9b4c4fe766c7",
   "metadata": {},
   "outputs": [
    {
     "data": {
      "text/plain": [
       "array([[3, 4, 3],\n",
       "       [5, 6, 6],\n",
       "       [5, 9, 1],\n",
       "       [3, 9, 6],\n",
       "       [2, 8, 1]], dtype=int32)"
      ]
     },
     "execution_count": 40,
     "metadata": {},
     "output_type": "execute_result"
    }
   ],
   "source": [
    "#if we put seed value then random array wont get changed after re-runing multiple times\n",
    "np.random.seed(seed=5657)\n",
    "random_a1 = np.random.randint(10, size=(5,3))\n",
    "random_a1"
   ]
  },
  {
   "cell_type": "code",
   "execution_count": 44,
   "id": "86b099a1-fad9-49ff-8fb0-32881f8f517f",
   "metadata": {},
   "outputs": [
    {
     "data": {
      "text/plain": [
       "array([[0.07630829, 0.77991879, 0.43840923, 0.72346518],\n",
       "       [0.97798951, 0.53849587, 0.50112046, 0.07205113],\n",
       "       [0.26843898, 0.4998825 , 0.67923   , 0.80373904],\n",
       "       [0.38094113, 0.06593635, 0.2881456 , 0.90959353],\n",
       "       [0.21338535, 0.45212396, 0.93120602, 0.02489923]])"
      ]
     },
     "execution_count": 44,
     "metadata": {},
     "output_type": "execute_result"
    }
   ],
   "source": [
    "np.random.seed(7) #random seed is set to 7\n",
    "random_a2 = np.random.random((5,4))\n",
    "random_a2"
   ]
  },
  {
   "cell_type": "markdown",
   "id": "d2624dc4-4b98-4c69-a1dc-4a41cfe22459",
   "metadata": {},
   "source": [
    "\n",
    "## Viewing arrays and matrixes"
   ]
  },
  {
   "cell_type": "code",
   "execution_count": 47,
   "id": "e85f54be-0422-4639-9e3f-7b5daaae653c",
   "metadata": {},
   "outputs": [
    {
     "data": {
      "text/plain": [
       "array([1, 2, 3, 6, 7, 8, 9], dtype=int32)"
      ]
     },
     "execution_count": 47,
     "metadata": {},
     "output_type": "execute_result"
    }
   ],
   "source": [
    "## Finding unique elements\n",
    "np.unique(random_array)"
   ]
  },
  {
   "cell_type": "code",
   "execution_count": 48,
   "id": "56b8b14a-57e8-4b1f-b0d5-1f1138a9ea97",
   "metadata": {},
   "outputs": [
    {
     "data": {
      "text/plain": [
       "array([[1, 2, 3],\n",
       "       [4, 5, 6],\n",
       "       [7, 8, 9]])"
      ]
     },
     "execution_count": 48,
     "metadata": {},
     "output_type": "execute_result"
    }
   ],
   "source": [
    "a3[0]"
   ]
  },
  {
   "cell_type": "code",
   "execution_count": 49,
   "id": "9aad7d12-2228-45d2-b92a-80ea733b9f8b",
   "metadata": {},
   "outputs": [
    {
     "data": {
      "text/plain": [
       "array([1. , 2. , 3.6])"
      ]
     },
     "execution_count": 49,
     "metadata": {},
     "output_type": "execute_result"
    }
   ],
   "source": [
    "a2[0]"
   ]
  },
  {
   "cell_type": "code",
   "execution_count": 51,
   "id": "3a760891-1baa-48b7-862c-ea8841c6f6de",
   "metadata": {},
   "outputs": [
    {
     "data": {
      "text/plain": [
       "array([[[ 1,  2],\n",
       "        [ 4,  5]],\n",
       "\n",
       "       [[10, 11],\n",
       "        [13, 14]]])"
      ]
     },
     "execution_count": 51,
     "metadata": {},
     "output_type": "execute_result"
    }
   ],
   "source": [
    "#using slicing\n",
    "# viewing first 2 elements of all arrays\n",
    "a3[ :2, :2, :2]"
   ]
  },
  {
   "cell_type": "code",
   "execution_count": 53,
   "id": "b4d3ce16-d962-42b1-a657-49489209099c",
   "metadata": {},
   "outputs": [
    {
     "data": {
      "text/plain": [
       "array([[[[8, 4, 9, 0, 2],\n",
       "         [0, 7, 6, 2, 9],\n",
       "         [9, 5, 1, 0, 0],\n",
       "         [9, 1, 1, 5, 3]],\n",
       "\n",
       "        [[2, 0, 4, 8, 7],\n",
       "         [1, 4, 9, 3, 6],\n",
       "         [7, 1, 0, 2, 7],\n",
       "         [0, 0, 9, 8, 2]],\n",
       "\n",
       "        [[0, 5, 5, 0, 9],\n",
       "         [0, 8, 4, 5, 1],\n",
       "         [4, 0, 7, 2, 0],\n",
       "         [3, 9, 8, 3, 7]]],\n",
       "\n",
       "\n",
       "       [[[1, 0, 1, 4, 6],\n",
       "         [1, 0, 1, 0, 1],\n",
       "         [8, 4, 1, 6, 8],\n",
       "         [5, 2, 4, 7, 4]],\n",
       "\n",
       "        [[1, 2, 8, 5, 2],\n",
       "         [9, 6, 2, 5, 7],\n",
       "         [7, 5, 5, 6, 0],\n",
       "         [6, 4, 6, 2, 6]],\n",
       "\n",
       "        [[8, 7, 0, 5, 8],\n",
       "         [9, 7, 7, 6, 2],\n",
       "         [5, 6, 1, 9, 3],\n",
       "         [4, 0, 3, 5, 6]]]], dtype=int32)"
      ]
     },
     "execution_count": 53,
     "metadata": {},
     "output_type": "execute_result"
    }
   ],
   "source": [
    "a4 = np.random.randint(10, size=(2, 3, 4, 5))\n",
    "a4"
   ]
  },
  {
   "cell_type": "code",
   "execution_count": 54,
   "id": "3200cf04-5f00-439b-b38d-2d841b1b0485",
   "metadata": {},
   "outputs": [
    {
     "data": {
      "text/plain": [
       "((2, 3, 4, 5), 4)"
      ]
     },
     "execution_count": 54,
     "metadata": {},
     "output_type": "execute_result"
    }
   ],
   "source": [
    "a4.shape, a4.ndim"
   ]
  },
  {
   "cell_type": "code",
   "execution_count": 57,
   "id": "4b84441b-68d0-49d8-b5ac-9e531daa6765",
   "metadata": {},
   "outputs": [
    {
     "data": {
      "text/plain": [
       "array([[[[8, 4, 9],\n",
       "         [0, 7, 6],\n",
       "         [9, 5, 1],\n",
       "         [9, 1, 1]],\n",
       "\n",
       "        [[2, 0, 4],\n",
       "         [1, 4, 9],\n",
       "         [7, 1, 0],\n",
       "         [0, 0, 9]],\n",
       "\n",
       "        [[0, 5, 5],\n",
       "         [0, 8, 4],\n",
       "         [4, 0, 7],\n",
       "         [3, 9, 8]]],\n",
       "\n",
       "\n",
       "       [[[1, 0, 1],\n",
       "         [1, 0, 1],\n",
       "         [8, 4, 1],\n",
       "         [5, 2, 4]],\n",
       "\n",
       "        [[1, 2, 8],\n",
       "         [9, 6, 2],\n",
       "         [7, 5, 5],\n",
       "         [6, 4, 6]],\n",
       "\n",
       "        [[8, 7, 0],\n",
       "         [9, 7, 7],\n",
       "         [5, 6, 1],\n",
       "         [4, 0, 3]]]], dtype=int32)"
      ]
     },
     "execution_count": 57,
     "metadata": {},
     "output_type": "execute_result"
    }
   ],
   "source": [
    "#Get first 3 numbers of inner most arrays\n",
    "a4[:, :, :, :3]"
   ]
  },
  {
   "cell_type": "code",
   "execution_count": null,
   "id": "bd2d5338-c860-4080-90a1-7a36a5654d9a",
   "metadata": {},
   "outputs": [],
   "source": []
  }
 ],
 "metadata": {
  "kernelspec": {
   "display_name": "Python 3 (ipykernel)",
   "language": "python",
   "name": "python3"
  },
  "language_info": {
   "codemirror_mode": {
    "name": "ipython",
    "version": 3
   },
   "file_extension": ".py",
   "mimetype": "text/x-python",
   "name": "python",
   "nbconvert_exporter": "python",
   "pygments_lexer": "ipython3",
   "version": "3.13.2"
  }
 },
 "nbformat": 4,
 "nbformat_minor": 5
}
